{
 "cells": [
  {
   "cell_type": "code",
   "execution_count": 1,
   "metadata": {
    "scrolled": false
   },
   "outputs": [],
   "source": [
    "import miner "
   ]
  },
  {
   "cell_type": "code",
   "execution_count": 2,
   "metadata": {
    "collapsed": true
   },
   "outputs": [],
   "source": [
    "import print_board"
   ]
  },
  {
   "cell_type": "code",
   "execution_count": 3,
   "metadata": {
    "collapsed": true
   },
   "outputs": [],
   "source": [
    "import pandas as pd"
   ]
  },
  {
   "cell_type": "code",
   "execution_count": 4,
   "metadata": {
    "collapsed": true
   },
   "outputs": [],
   "source": [
    "games = pd.read_csv('data/games.csv')"
   ]
  },
  {
   "cell_type": "code",
   "execution_count": 5,
   "metadata": {
    "collapsed": true
   },
   "outputs": [],
   "source": [
    "game=miner.mine(games.iloc[8700])"
   ]
  },
  {
   "cell_type": "code",
   "execution_count": 6,
   "metadata": {},
   "outputs": [
    {
     "data": {
      "text/html": [
       "<div>\n",
       "<style>\n",
       "    .dataframe thead tr:only-child th {\n",
       "        text-align: right;\n",
       "    }\n",
       "\n",
       "    .dataframe thead th {\n",
       "        text-align: left;\n",
       "    }\n",
       "\n",
       "    .dataframe tbody tr th {\n",
       "        vertical-align: top;\n",
       "    }\n",
       "</style>\n",
       "<table border=\"1\" class=\"dataframe\">\n",
       "  <thead>\n",
       "    <tr style=\"text-align: right;\">\n",
       "      <th></th>\n",
       "      <th>00</th>\n",
       "      <th>01</th>\n",
       "      <th>02</th>\n",
       "      <th>03</th>\n",
       "      <th>04</th>\n",
       "      <th>05</th>\n",
       "      <th>06</th>\n",
       "      <th>07</th>\n",
       "      <th>10</th>\n",
       "      <th>11</th>\n",
       "      <th>...</th>\n",
       "      <th>opening</th>\n",
       "      <th>pawnLines</th>\n",
       "      <th>pawnRanks</th>\n",
       "      <th>pawnsGuardingKings</th>\n",
       "      <th>pins</th>\n",
       "      <th>protects</th>\n",
       "      <th>stackedPawns</th>\n",
       "      <th>victory_type</th>\n",
       "      <th>white_rating</th>\n",
       "      <th>winner</th>\n",
       "    </tr>\n",
       "  </thead>\n",
       "  <tbody>\n",
       "    <tr>\n",
       "      <th>0</th>\n",
       "      <td>5</td>\n",
       "      <td>3</td>\n",
       "      <td>4</td>\n",
       "      <td>1000</td>\n",
       "      <td>9</td>\n",
       "      <td>4</td>\n",
       "      <td>3</td>\n",
       "      <td>5</td>\n",
       "      <td>1</td>\n",
       "      <td>1</td>\n",
       "      <td>...</td>\n",
       "      <td>Queen's Gambit Refused: Chigorin Defense |  La...</td>\n",
       "      <td>0</td>\n",
       "      <td>2</td>\n",
       "      <td>0</td>\n",
       "      <td>0</td>\n",
       "      <td>0</td>\n",
       "      <td>0</td>\n",
       "      <td>victory_type</td>\n",
       "      <td>1551</td>\n",
       "      <td>black</td>\n",
       "    </tr>\n",
       "    <tr>\n",
       "      <th>1</th>\n",
       "      <td>5</td>\n",
       "      <td>3</td>\n",
       "      <td>4</td>\n",
       "      <td>1000</td>\n",
       "      <td>9</td>\n",
       "      <td>4</td>\n",
       "      <td>3</td>\n",
       "      <td>5</td>\n",
       "      <td>1</td>\n",
       "      <td>1</td>\n",
       "      <td>...</td>\n",
       "      <td>Queen's Gambit Refused: Chigorin Defense |  La...</td>\n",
       "      <td>0</td>\n",
       "      <td>0</td>\n",
       "      <td>0</td>\n",
       "      <td>0</td>\n",
       "      <td>-3</td>\n",
       "      <td>0</td>\n",
       "      <td>victory_type</td>\n",
       "      <td>1551</td>\n",
       "      <td>black</td>\n",
       "    </tr>\n",
       "    <tr>\n",
       "      <th>2</th>\n",
       "      <td>5</td>\n",
       "      <td>0</td>\n",
       "      <td>4</td>\n",
       "      <td>1000</td>\n",
       "      <td>9</td>\n",
       "      <td>4</td>\n",
       "      <td>3</td>\n",
       "      <td>5</td>\n",
       "      <td>1</td>\n",
       "      <td>1</td>\n",
       "      <td>...</td>\n",
       "      <td>Queen's Gambit Refused: Chigorin Defense |  La...</td>\n",
       "      <td>0</td>\n",
       "      <td>0</td>\n",
       "      <td>0</td>\n",
       "      <td>0</td>\n",
       "      <td>0</td>\n",
       "      <td>0</td>\n",
       "      <td>victory_type</td>\n",
       "      <td>1551</td>\n",
       "      <td>black</td>\n",
       "    </tr>\n",
       "    <tr>\n",
       "      <th>3</th>\n",
       "      <td>5</td>\n",
       "      <td>0</td>\n",
       "      <td>4</td>\n",
       "      <td>1000</td>\n",
       "      <td>9</td>\n",
       "      <td>4</td>\n",
       "      <td>3</td>\n",
       "      <td>5</td>\n",
       "      <td>1</td>\n",
       "      <td>1</td>\n",
       "      <td>...</td>\n",
       "      <td>Queen's Gambit Refused: Chigorin Defense |  La...</td>\n",
       "      <td>0</td>\n",
       "      <td>0</td>\n",
       "      <td>0</td>\n",
       "      <td>0</td>\n",
       "      <td>4</td>\n",
       "      <td>0</td>\n",
       "      <td>victory_type</td>\n",
       "      <td>1551</td>\n",
       "      <td>black</td>\n",
       "    </tr>\n",
       "    <tr>\n",
       "      <th>4</th>\n",
       "      <td>5</td>\n",
       "      <td>0</td>\n",
       "      <td>4</td>\n",
       "      <td>1000</td>\n",
       "      <td>9</td>\n",
       "      <td>4</td>\n",
       "      <td>3</td>\n",
       "      <td>5</td>\n",
       "      <td>1</td>\n",
       "      <td>1</td>\n",
       "      <td>...</td>\n",
       "      <td>Queen's Gambit Refused: Chigorin Defense |  La...</td>\n",
       "      <td>0</td>\n",
       "      <td>2</td>\n",
       "      <td>0</td>\n",
       "      <td>0</td>\n",
       "      <td>0</td>\n",
       "      <td>0</td>\n",
       "      <td>victory_type</td>\n",
       "      <td>1551</td>\n",
       "      <td>black</td>\n",
       "    </tr>\n",
       "  </tbody>\n",
       "</table>\n",
       "<p>5 rows × 86 columns</p>\n",
       "</div>"
      ],
      "text/plain": [
       "   00  01  02    03  04  05  06  07  10  11   ...    \\\n",
       "0   5   3   4  1000   9   4   3   5   1   1   ...     \n",
       "1   5   3   4  1000   9   4   3   5   1   1   ...     \n",
       "2   5   0   4  1000   9   4   3   5   1   1   ...     \n",
       "3   5   0   4  1000   9   4   3   5   1   1   ...     \n",
       "4   5   0   4  1000   9   4   3   5   1   1   ...     \n",
       "\n",
       "                                             opening  pawnLines  pawnRanks  \\\n",
       "0  Queen's Gambit Refused: Chigorin Defense |  La...          0          2   \n",
       "1  Queen's Gambit Refused: Chigorin Defense |  La...          0          0   \n",
       "2  Queen's Gambit Refused: Chigorin Defense |  La...          0          0   \n",
       "3  Queen's Gambit Refused: Chigorin Defense |  La...          0          0   \n",
       "4  Queen's Gambit Refused: Chigorin Defense |  La...          0          2   \n",
       "\n",
       "   pawnsGuardingKings  pins  protects  stackedPawns  victory_type  \\\n",
       "0                   0     0         0             0  victory_type   \n",
       "1                   0     0        -3             0  victory_type   \n",
       "2                   0     0         0             0  victory_type   \n",
       "3                   0     0         4             0  victory_type   \n",
       "4                   0     0         0             0  victory_type   \n",
       "\n",
       "   white_rating  winner  \n",
       "0          1551   black  \n",
       "1          1551   black  \n",
       "2          1551   black  \n",
       "3          1551   black  \n",
       "4          1551   black  \n",
       "\n",
       "[5 rows x 86 columns]"
      ]
     },
     "execution_count": 6,
     "metadata": {},
     "output_type": "execute_result"
    }
   ],
   "source": [
    "game.head(5)"
   ]
  },
  {
   "cell_type": "code",
   "execution_count": 19,
   "metadata": {},
   "outputs": [
    {
     "name": "stdout",
     "output_type": "stream",
     "text": [
      "       A    B    C    D    E    F    G    H    \n",
      "\n",
      "\n",
      "  8    _    b    q    k    b    n    r  \n",
      "\n",
      "\n",
      "  7    p    p    _    _    p    p    p  \n",
      "\n",
      "\n",
      "  6    _    n    _    _    _    _    _  \n",
      "\n",
      "\n",
      "  5    _    _    _    P    _    _    _  \n",
      "\n",
      "\n",
      "  4    _    P    p    _    _    _    _  \n",
      "\n",
      "\n",
      "  3    _    _    _    _    N    _    _  \n",
      "\n",
      "\n",
      "  2    P    _    _    P    P    P    P  \n",
      "\n",
      "\n",
      "  1    N    B    Q    K    B    _    R  \n"
     ]
    }
   ],
   "source": [
    "print_board.display(game.iloc[7])"
   ]
  },
  {
   "cell_type": "code",
   "execution_count": null,
   "metadata": {
    "collapsed": true
   },
   "outputs": [],
   "source": []
  }
 ],
 "metadata": {
  "kernelspec": {
   "display_name": "Python 3",
   "language": "python",
   "name": "python3"
  },
  "language_info": {
   "codemirror_mode": {
    "name": "ipython",
    "version": 3
   },
   "file_extension": ".py",
   "mimetype": "text/x-python",
   "name": "python",
   "nbconvert_exporter": "python",
   "pygments_lexer": "ipython3",
   "version": "3.6.1"
  }
 },
 "nbformat": 4,
 "nbformat_minor": 2
}
