{
 "cells": [
  {
   "cell_type": "code",
   "execution_count": 1,
   "metadata": {},
   "outputs": [],
   "source": [
    "import miner "
   ]
  },
  {
   "cell_type": "code",
   "execution_count": 2,
   "metadata": {
    "collapsed": true
   },
   "outputs": [],
   "source": [
    "import print_board"
   ]
  },
  {
   "cell_type": "code",
   "execution_count": 3,
   "metadata": {
    "collapsed": true
   },
   "outputs": [],
   "source": [
    "import pandas as pd"
   ]
  },
  {
   "cell_type": "code",
   "execution_count": 4,
   "metadata": {
    "collapsed": true
   },
   "outputs": [],
   "source": [
    "games = pd.read_csv('data/games.csv')"
   ]
  },
  {
   "cell_type": "code",
   "execution_count": 15,
   "metadata": {},
   "outputs": [],
   "source": [
    "game=miner.mine(games.iloc[8700])"
   ]
  },
  {
   "cell_type": "code",
   "execution_count": 16,
   "metadata": {},
   "outputs": [
    {
     "data": {
      "text/plain": [
       "Index(['00', '01', '02', '03', '04', '05', '06', '07', '10', '11', '12', '13',\n",
       "       '14', '15', '16', '17', '20', '21', '22', '23', '24', '25', '26', '27',\n",
       "       '30', '31', '32', '33', '34', '35', '36', '37', '40', '41', '42', '43',\n",
       "       '44', '45', '46', '47', '50', '51', '52', '53', '54', '55', '56', '57',\n",
       "       '60', '61', '62', '63', '64', '65', '66', '67', '70', '71', '72', '73',\n",
       "       '74', '75', '76', '77', 'basicScore', 'black_rating', 'captures',\n",
       "       'centrePawns', 'checked', 'enpassants', 'fianachettos', 'forks', 'id',\n",
       "       'kingMoves', 'move', 'moves', 'opening', 'pawnLines', 'pawnRanks',\n",
       "       'pawnsGuardingKings', 'pins', 'protects', 'stackedPawns',\n",
       "       'victory_type', 'white_rating', 'winner'],\n",
       "      dtype='object')"
      ]
     },
     "execution_count": 16,
     "metadata": {},
     "output_type": "execute_result"
    }
   ],
   "source": [
    "game.columns"
   ]
  },
  {
   "cell_type": "code",
   "execution_count": 19,
   "metadata": {},
   "outputs": [
    {
     "name": "stdout",
     "output_type": "stream",
     "text": [
      "       A    B    C    D    E    F    G    H    \n",
      "\n",
      "\n",
      "  8    _    b    q    k    b    n    r  \n",
      "\n",
      "\n",
      "  7    p    p    _    _    p    p    p  \n",
      "\n",
      "\n",
      "  6    _    n    _    _    _    _    _  \n",
      "\n",
      "\n",
      "  5    _    _    _    P    _    _    _  \n",
      "\n",
      "\n",
      "  4    _    P    p    _    _    _    _  \n",
      "\n",
      "\n",
      "  3    _    _    _    _    N    _    _  \n",
      "\n",
      "\n",
      "  2    P    _    _    P    P    P    P  \n",
      "\n",
      "\n",
      "  1    N    B    Q    K    B    _    R  \n"
     ]
    }
   ],
   "source": [
    "print_board.display(game.iloc[7])"
   ]
  },
  {
   "cell_type": "code",
   "execution_count": null,
   "metadata": {
    "collapsed": true
   },
   "outputs": [],
   "source": []
  }
 ],
 "metadata": {
  "kernelspec": {
   "display_name": "Python 3",
   "language": "python",
   "name": "python3"
  },
  "language_info": {
   "codemirror_mode": {
    "name": "ipython",
    "version": 3
   },
   "file_extension": ".py",
   "mimetype": "text/x-python",
   "name": "python",
   "nbconvert_exporter": "python",
   "pygments_lexer": "ipython3",
   "version": "3.6.1"
  }
 },
 "nbformat": 4,
 "nbformat_minor": 2
}
