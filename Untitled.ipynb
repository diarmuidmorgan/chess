{
 "cells": [
  {
   "cell_type": "code",
   "execution_count": 1,
   "metadata": {
    "collapsed": true,
    "scrolled": false
   },
   "outputs": [],
   "source": [
    "import miner "
   ]
  },
  {
   "cell_type": "code",
   "execution_count": 2,
   "metadata": {
    "collapsed": true
   },
   "outputs": [],
   "source": [
    "import print_board"
   ]
  },
  {
   "cell_type": "code",
   "execution_count": 3,
   "metadata": {
    "collapsed": true
   },
   "outputs": [],
   "source": [
    "import pandas as pd"
   ]
  },
  {
   "cell_type": "code",
   "execution_count": 4,
   "metadata": {
    "collapsed": true
   },
   "outputs": [],
   "source": [
    "df=pd.read_csv('data/cleanChess.csv')"
   ]
  },
  {
   "cell_type": "code",
   "execution_count": 5,
   "metadata": {
    "collapsed": true
   },
   "outputs": [],
   "source": [
    "df_games = miner.mine(df.iloc[0])"
   ]
  },
  {
   "cell_type": "code",
   "execution_count": null,
   "metadata": {},
   "outputs": [],
   "source": [
    "for i in range(1,df.shape[0]):\n",
    "    if i % 1000 == 0:\n",
    "        print(i)\n",
    "    df_games=df_games.append(miner.mine(df.iloc[i]))"
   ]
  },
  {
   "cell_type": "code",
   "execution_count": null,
   "metadata": {
    "collapsed": true
   },
   "outputs": [],
   "source": [
    "df_games.to_csv('data/exploded.csv')"
   ]
  },
  {
   "cell_type": "code",
   "execution_count": 47,
   "metadata": {},
   "outputs": [
    {
     "data": {
      "text/plain": [
       "(13, 88)"
      ]
     },
     "execution_count": 47,
     "metadata": {},
     "output_type": "execute_result"
    }
   ],
   "source": [
    "df_games.shape"
   ]
  },
  {
   "cell_type": "code",
   "execution_count": 16,
   "metadata": {},
   "outputs": [],
   "source": [
    "features_to_concat = [df_games]\n",
    "features_to_concat.append(pd.get_dummies(df_games['winner'], prefix='winner'))\n",
    "\n",
    "df_games = pd.concat(features_to_concat, axis=1)"
   ]
  },
  {
   "cell_type": "code",
   "execution_count": 17,
   "metadata": {},
   "outputs": [
    {
     "data": {
      "text/plain": [
       "Index(['00', '01', '02', '03', '04', '05', '06', '07', '10', '11', '12', '13',\n",
       "       '14', '15', '16', '17', '20', '21', '22', '23', '24', '25', '26', '27',\n",
       "       '30', '31', '32', '33', '34', '35', '36', '37', '40', '41', '42', '43',\n",
       "       '44', '45', '46', '47', '50', '51', '52', '53', '54', '55', '56', '57',\n",
       "       '60', '61', '62', '63', '64', '65', '66', '67', '70', '71', '72', '73',\n",
       "       '74', '75', '76', '77', 'basicScore', 'black_rating', 'canCastle',\n",
       "       'captures', 'centrePawns', 'checked', 'enpassants', 'fianachettos',\n",
       "       'forks', 'hasCastled', 'id', 'kingMoves', 'moves_taken_so_far',\n",
       "       'opening', 'pawnLines', 'pawnRanks', 'pawnsGuardingKings', 'pins',\n",
       "       'possible_moves', 'protects', 'stackedPawns', 'victory_type',\n",
       "       'white_rating', 'winner', 'winner_white'],\n",
       "      dtype='object')"
      ]
     },
     "execution_count": 17,
     "metadata": {},
     "output_type": "execute_result"
    }
   ],
   "source": [
    "df_games.columns"
   ]
  },
  {
   "cell_type": "code",
   "execution_count": 19,
   "metadata": {},
   "outputs": [],
   "source": [
    "df_reduced = df_games[['basicScore', 'canCastle', 'captures', 'centrePawns', 'checked', 'enpassants', 'fianachettos', 'forks', 'hasCastled', 'kingMoves', 'moves_taken_so_far', 'pawnLines', 'pawnRanks', 'pawnsGuardingKings', 'pins', 'possible_moves', 'protects', 'stackedPawns', 'winner_white']]"
   ]
  },
  {
   "cell_type": "code",
   "execution_count": 25,
   "metadata": {},
   "outputs": [],
   "source": [
    "import numpy as np\n",
    "msk = np.random.rand(len(df_reduced)) < 0.7"
   ]
  },
  {
   "cell_type": "code",
   "execution_count": 26,
   "metadata": {},
   "outputs": [],
   "source": [
    "df_train = df_reduced[msk]\n",
    "df_test = df_reduced[~msk]"
   ]
  },
  {
   "cell_type": "code",
   "execution_count": 28,
   "metadata": {
    "collapsed": true
   },
   "outputs": [],
   "source": [
    "from sklearn.ensemble import RandomForestClassifier as RF"
   ]
  },
  {
   "cell_type": "code",
   "execution_count": 32,
   "metadata": {},
   "outputs": [],
   "source": [
    "clf = RF(max_depth=60).fit(df_train[['basicScore', 'canCastle', 'captures', 'centrePawns', 'checked', 'enpassants', 'fianachettos', 'forks', 'hasCastled', 'kingMoves', 'moves_taken_so_far', 'pawnLines', 'pawnRanks', 'pawnsGuardingKings', 'pins', 'possible_moves', 'protects', 'stackedPawns']], df_train.winner_white)"
   ]
  },
  {
   "cell_type": "code",
   "execution_count": 33,
   "metadata": {
    "collapsed": true
   },
   "outputs": [],
   "source": [
    "predictions=clf.predict(df_test[['basicScore', 'canCastle', 'captures', 'centrePawns', 'checked', 'enpassants', 'fianachettos', 'forks', 'hasCastled', 'kingMoves', 'moves_taken_so_far', 'pawnLines', 'pawnRanks', 'pawnsGuardingKings', 'pins', 'possible_moves', 'protects', 'stackedPawns']])"
   ]
  },
  {
   "cell_type": "code",
   "execution_count": 34,
   "metadata": {
    "collapsed": true
   },
   "outputs": [],
   "source": [
    "accuracy = predictions - df_test['winner_white']"
   ]
  },
  {
   "cell_type": "code",
   "execution_count": 35,
   "metadata": {},
   "outputs": [
    {
     "name": "stdout",
     "output_type": "stream",
     "text": [
      "0.0\n"
     ]
    }
   ],
   "source": [
    "print(sum(accuracy)/len(accuracy))"
   ]
  },
  {
   "cell_type": "code",
   "execution_count": 38,
   "metadata": {},
   "outputs": [
    {
     "data": {
      "text/plain": [
       "(4,)"
      ]
     },
     "execution_count": 38,
     "metadata": {},
     "output_type": "execute_result"
    }
   ],
   "source": [
    "predictions.shape"
   ]
  },
  {
   "cell_type": "code",
   "execution_count": 39,
   "metadata": {},
   "outputs": [
    {
     "data": {
      "text/plain": [
       "(4, 19)"
      ]
     },
     "execution_count": 39,
     "metadata": {},
     "output_type": "execute_result"
    }
   ],
   "source": [
    "df_test.shape"
   ]
  },
  {
   "cell_type": "code",
   "execution_count": 40,
   "metadata": {},
   "outputs": [
    {
     "data": {
      "text/plain": [
       "(13, 89)"
      ]
     },
     "execution_count": 40,
     "metadata": {},
     "output_type": "execute_result"
    }
   ],
   "source": [
    "df_games.shape"
   ]
  },
  {
   "cell_type": "code",
   "execution_count": null,
   "metadata": {
    "collapsed": true
   },
   "outputs": [],
   "source": []
  }
 ],
 "metadata": {
  "kernelspec": {
   "display_name": "Python 3",
   "language": "python",
   "name": "python3"
  },
  "language_info": {
   "codemirror_mode": {
    "name": "ipython",
    "version": 3
   },
   "file_extension": ".py",
   "mimetype": "text/x-python",
   "name": "python",
   "nbconvert_exporter": "python",
   "pygments_lexer": "ipython3",
   "version": "3.6.1"
  }
 },
 "nbformat": 4,
 "nbformat_minor": 2
}
